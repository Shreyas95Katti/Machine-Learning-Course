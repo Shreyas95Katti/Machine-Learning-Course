{
 "cells": [
  {
   "cell_type": "markdown",
   "id": "cd6c5717-90dd-40d3-beff-700584d03fe9",
   "metadata": {},
   "source": [
    "# $Logistic Regression$"
   ]
  },
  {
   "cell_type": "markdown",
   "id": "09ea9c23-a75c-4226-8c28-c85fa8d078e3",
   "metadata": {},
   "source": [
    "Uses sigmoid function to determine the classification. Lets visualize this function"
   ]
  },
  {
   "cell_type": "code",
   "execution_count": 1,
   "id": "f7c9bb89-8572-4d77-9bed-ffbc795b0c7c",
   "metadata": {},
   "outputs": [],
   "source": [
    "import numpy as np\n",
    "import pandas as pd\n",
    "import seaborn as sns\n",
    "import matplotlib.pyplot as plt\n",
    "sns.set_style('whitegrid')"
   ]
  },
  {
   "cell_type": "code",
   "execution_count": 2,
   "id": "4ed2d29c-13f5-49b3-940c-a604a1802f18",
   "metadata": {},
   "outputs": [
    {
     "data": {
      "text/plain": [
       "Text(0.5, 1.0, 'Sigmoid Function')"
      ]
     },
     "execution_count": 2,
     "metadata": {},
     "output_type": "execute_result"
    },
    {
     "data": {
      "image/png": "[encoded data removed]",
      "text/plain": [
       "<Figure size 864x576 with 1 Axes>"
      ]
     },
     "metadata": {},
     "output_type": "display_data"
    }
   ],
   "source": [
    "x = np.linspace(-6, 6, num = 1000)\n",
    "plt.figure(figsize = (12, 8))\n",
    "plt.plot(x, 1 / (1 + np.exp(-x)))    #1/(1+e^-x)\n",
    "plt.title('Sigmoid Function')"
   ]
  },
  {
   "cell_type": "code",
   "execution_count": 3,
   "id": "2e367371-9a3c-45a2-9dd9-fe97dfdf30b8",
   "metadata": {},
   "outputs": [],
   "source": [
    "from sklearn.linear_model import LogisticRegression"
   ]
  },
  {
   "cell_type": "code",
   "execution_count": 4,
   "id": "05333825-02c9-4b4b-ade9-28e751cb2837",
   "metadata": {},
   "outputs": [],
   "source": [
    "dataset = [[-2.0011, 0],\n",
    "           [-1.4654, 0],\n",
    "           [0.0965, 0],\n",
    "           [1.3881, 0],\n",
    "           [3.0641, 0],\n",
    "           [7.6275, 1],\n",
    "           [5.3324, 1],\n",
    "           [6.9225, 1],\n",
    "           [8.6754, 1],\n",
    "           [7.6737, 1]]"
   ]
  },
  {
   "cell_type": "code",
   "execution_count": 5,
   "id": "93ba2649-862c-435f-b25a-286c0d0bcb29",
   "metadata": {},
   "outputs": [],
   "source": [
    "X = np.array(dataset)[:, 0:1]\n",
    "y = np.array(dataset)[:, 1]"
   ]
  },
  {
   "cell_type": "code",
   "execution_count": 6,
   "id": "7472647b-82cb-470e-8d41-d3c435803ef3",
   "metadata": {},
   "outputs": [],
   "source": [
    "classification_LR = LogisticRegression(C = 1.0, penalty = 'l2', tol = 0.0001, solver = 'lbfgs')"
   ]
  },
  {
   "cell_type": "code",
   "execution_count": 7,
   "id": "ba14067e-4771-463a-b0b1-a99013a3c5f3",
   "metadata": {},
   "outputs": [
    {
     "data": {
      "text/plain": [
       "LogisticRegression()"
      ]
     },
     "execution_count": 7,
     "metadata": {},
     "output_type": "execute_result"
    }
   ],
   "source": [
    "classification_LR.fit(X, y)"
   ]
  },
  {
   "cell_type": "code",
   "execution_count": 8,
   "id": "454abeac-4636-4c4b-92cc-d2d44c2eb642",
   "metadata": {},
   "outputs": [
    {
     "data": {
      "text/plain": [
       "array([0., 0., 0., 0., 0., 1., 1., 1., 1., 1.])"
      ]
     },
     "execution_count": 8,
     "metadata": {},
     "output_type": "execute_result"
    }
   ],
   "source": [
    "classification_LR.predict(X)"
   ]
  },
  {
   "cell_type": "code",
   "execution_count": 9,
   "id": "c8c209f9-a469-4b15-8e6d-f9bbe82e85d0",
   "metadata": {},
   "outputs": [
    {
     "data": {
      "text/plain": [
       "array([[0.99853453, 0.00146547],\n",
       "       [0.99740804, 0.00259196],\n",
       "       [0.98643844, 0.01356156],\n",
       "       [0.94830288, 0.05169712],\n",
       "       [0.75430207, 0.24569793],\n",
       "       [0.02307807, 0.97692193],\n",
       "       [0.21456501, 0.78543499],\n",
       "       [0.04771639, 0.95228361],\n",
       "       [0.00766657, 0.99233343],\n",
       "       [0.02199284, 0.97800716]])"
      ]
     },
     "execution_count": 9,
     "metadata": {},
     "output_type": "execute_result"
    }
   ],
   "source": [
    "classification_LR.predict_proba(X)\n",
    "#this function includes the prediction and the confidence of the prediction (confidence that teh prediction is right)"
   ]
  },
  {
   "cell_type": "markdown",
   "id": "8a0ae51a-2231-4202-b066-b13d30aba86c",
   "metadata": {},
   "source": [
    "Exercise"
   ]
  },
  {
   "cell_type": "code",
   "execution_count": 10,
   "id": "d55ef5e9-167c-4c0d-8c6a-26055bcd5ed7",
   "metadata": {},
   "outputs": [],
   "source": [
    "dataset2 = [[ 0.2,  0. ],\n",
    "            [ 0.2,  0. ],\n",
    "            [ 0.2,  0. ],\n",
    "            [ 0.2,  0. ],\n",
    "            [ 0.2,  0. ],\n",
    "            [ 0.4,  0. ],\n",
    "            [ 0.3,  0. ],\n",
    "            [ 0.2,  0. ],\n",
    "            [ 0.2,  0. ],\n",
    "            [ 0.1,  0. ],\n",
    "            [ 1.4,  1. ],\n",
    "            [ 1.5,  1. ],\n",
    "            [ 1.5,  1. ],\n",
    "            [ 1.3,  1. ],\n",
    "            [ 1.5,  1. ],\n",
    "            [ 1.3,  1. ],\n",
    "            [ 1.6,  1. ],\n",
    "            [ 1. ,  1. ],\n",
    "            [ 1.3,  1. ],\n",
    "            [ 1.4,  1. ]]"
   ]
  },
  {
   "cell_type": "code",
   "execution_count": 11,
   "id": "c4db6b27-e1d0-40ad-bcc6-24d0783b2237",
   "metadata": {},
   "outputs": [],
   "source": [
    "X = np.array(dataset2)[:, 0:1]\n",
    "y = np.array(dataset2)[:, 1]"
   ]
  },
  {
   "cell_type": "code",
   "execution_count": 12,
   "id": "c1ccebfb-3c6e-48b6-ab12-1115f36e8435",
   "metadata": {},
   "outputs": [
    {
     "data": {
      "text/plain": [
       "LogisticRegression(C=1)"
      ]
     },
     "execution_count": 12,
     "metadata": {},
     "output_type": "execute_result"
    }
   ],
   "source": [
    "clf_LR = LogisticRegression(C = 1, penalty = 'l2', tol = 0.0001, solver = 'lbfgs')\n",
    "\n",
    "clf_LR.fit(X, y)"
   ]
  },
  {
   "cell_type": "code",
   "execution_count": 13,
   "id": "d9d7f8d7-7361-4089-8302-b35c2e8101fd",
   "metadata": {},
   "outputs": [
    {
     "data": {
      "text/plain": [
       "array([0., 0., 0., 0., 0., 0., 0., 0., 0., 0., 1., 1., 1., 1., 1., 1., 1.,\n",
       "       1., 1., 1.])"
      ]
     },
     "execution_count": 13,
     "metadata": {},
     "output_type": "execute_result"
    }
   ],
   "source": [
    "y_pred = clf_LR.predict(X)\n",
    "clf_LR.predict(X)"
   ]
  },
  {
   "cell_type": "code",
   "execution_count": 14,
   "id": "aee6c5f2-8913-472c-9fa4-3c92b5d3b167",
   "metadata": {},
   "outputs": [
    {
     "data": {
      "text/plain": [
       "array([[0., 0.],\n",
       "       [0., 0.],\n",
       "       [0., 0.],\n",
       "       [0., 0.],\n",
       "       [0., 0.],\n",
       "       [0., 0.],\n",
       "       [0., 0.],\n",
       "       [0., 0.],\n",
       "       [0., 0.],\n",
       "       [0., 0.],\n",
       "       [1., 1.],\n",
       "       [1., 1.],\n",
       "       [1., 1.],\n",
       "       [1., 1.],\n",
       "       [1., 1.],\n",
       "       [1., 1.],\n",
       "       [1., 1.],\n",
       "       [1., 1.],\n",
       "       [1., 1.],\n",
       "       [1., 1.]])"
      ]
     },
     "execution_count": 14,
     "metadata": {},
     "output_type": "execute_result"
    }
   ],
   "source": [
    "#prediction vs actual value\n",
    "np.column_stack((y_pred, y))"
   ]
  },
  {
   "cell_type": "code",
   "execution_count": 15,
   "id": "4632ce6d-364c-4eaa-8965-6665251fba6a",
   "metadata": {},
   "outputs": [
    {
     "data": {
      "text/plain": [
       "array([1.])"
      ]
     },
     "execution_count": 15,
     "metadata": {},
     "output_type": "execute_result"
    }
   ],
   "source": [
    "#observe how the predicted value changes exactly at 0.793 and 0.794. This value tell us where exactly the classification changes\n",
    "clf_LR.predict(np.array([0.794]).reshape(1, -1))"
   ]
  },
  {
   "cell_type": "code",
   "execution_count": null,
   "id": "d9c3ca55-aa31-4e8b-8081-216f205816ed",
   "metadata": {},
   "outputs": [],
   "source": []
  }
 ],
 "metadata": {
  "kernelspec": {
   "display_name": "Python 3 (ipykernel)",
   "language": "python",
   "name": "python3"
  },
  "language_info": {
   "codemirror_mode": {
    "name": "ipython",
    "version": 3
   },
   "file_extension": ".py",
   "mimetype": "text/x-python",
   "name": "python",
   "nbconvert_exporter": "python",
   "pygments_lexer": "ipython3",
   "version": "3.8.12"
  }
 },
 "nbformat": 4,
 "nbformat_minor": 5
}
